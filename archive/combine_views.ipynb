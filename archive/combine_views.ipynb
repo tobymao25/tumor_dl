{
 "cells": [
  {
   "cell_type": "code",
   "execution_count": 22,
   "metadata": {},
   "outputs": [],
   "source": [
    "import numpy as np\n",
    "import nibabel as nib\n",
    "import matplotlib.pyplot as plt\n",
    "import pydicom\n",
    "import os\n",
    "from scipy.ndimage import zoom\n",
    "import scipy\n",
    "from scipy.ndimage import affine_transform"
   ]
  },
  {
   "cell_type": "code",
   "execution_count": 23,
   "metadata": {},
   "outputs": [],
   "source": [
    "os.chdir(\"/Users/lindatang/Desktop/tumor_dl\")\n",
    "\n",
    "ax_file_name = os.listdir(\"test_folder/t1_ax\")\n",
    "sag_file_name = os.listdir(\"test_folder/t1_sag\")\n",
    "cor_file_name = os.listdir(\"test_folder/t1_cor\")"
   ]
  },
  {
   "cell_type": "code",
   "execution_count": 24,
   "metadata": {},
   "outputs": [],
   "source": [
    "def load_dicom_series(dicom_files, view):\n",
    "    slices = [pydicom.dcmread(dcm) for dcm in dicom_files]\n",
    "    if view ==\"cor\":\n",
    "        sort_dim = 1\n",
    "    elif view == \"ax\":\n",
    "        sort_dim = 2\n",
    "    elif view ==\"sag\":\n",
    "        sort_dim = 2\n",
    "    slices.sort(key=lambda x: float(x.ImagePositionPatient[sort_dim]))\n",
    "    image = np.stack([s.pixel_array for s in slices], axis=-1)\n",
    "    return image, slices[0].PixelSpacing, slices[0].ImageOrientationPatient, slices[0].ImagePositionPatient"
   ]
  },
  {
   "cell_type": "code",
   "execution_count": 25,
   "metadata": {},
   "outputs": [],
   "source": [
    "os.chdir(\"test_folder/t1_ax\")\n",
    "data1, spacing1, orientation1, position1 = load_dicom_series(ax_file_name, view=\"ax\") # 256\n",
    "os.chdir(\"../t1_sag\")\n",
    "data2, spacing2, orientation2, position2 = load_dicom_series(sag_file_name, view=\"sag\") # 320\n",
    "os.chdir(\"../t1_cor\")\n",
    "cor_file_name = [x for x in cor_file_name if x != \".DS_Store\"]\n",
    "data3, spacing3, orientation3, position3 = load_dicom_series(cor_file_name, view=\"cor\") # 256"
   ]
  },
  {
   "cell_type": "code",
   "execution_count": 26,
   "metadata": {},
   "outputs": [],
   "source": [
    "target_shape = tuple([320, 320])\n",
    "\n",
    "def resize_image(image, target_shape):\n",
    "    zoom_factors = [t / float(s) for t, s in zip(target_shape, image.shape)]\n",
    "    return zoom(image, zoom_factors, order=1)\n",
    "\n",
    "resized_image = resize_image(data1[:, :, 0], target_shape)\n",
    "#plt.imshow(resized_image, cmap = \"gray\")\n",
    "\n",
    "# iterate to resize all images\n",
    "data1_resized = []\n",
    "for i in range(len(data1[1, 1, :])):\n",
    "    resized_image = resize_image(data1[:, :, i], target_shape)\n",
    "    data1_resized.append(resized_image)\n",
    "    \n",
    "data1_resized = np.stack(data1_resized, axis=-1)\n",
    "\n",
    "# iterate to resize all images\n",
    "data3_resized = []\n",
    "for i in range(len(data3[1, 1, :])):\n",
    "    resized_image = resize_image(data3[:, :, i], target_shape)\n",
    "    data3_resized.append(resized_image)\n",
    "    \n",
    "data3_resized = np.stack(data3_resized, axis=-1)"
   ]
  },
  {
   "cell_type": "code",
   "execution_count": 27,
   "metadata": {},
   "outputs": [],
   "source": [
    "def resample_data(data, target_slices):\n",
    "    current_slices = data.shape[2]\n",
    "    zoom_factor = target_slices / current_slices\n",
    "    # Resample along the slice axis\n",
    "    resampled_data = scipy.ndimage.zoom(data, (1, 1, zoom_factor), order=1)\n",
    "    return resampled_data\n",
    "\n",
    "data3_resized = resample_data(data3_resized, 35)"
   ]
  },
  {
   "cell_type": "code",
   "execution_count": 28,
   "metadata": {},
   "outputs": [
    {
     "data": {
      "text/plain": [
       "(320, 320, 35, 3)"
      ]
     },
     "execution_count": 28,
     "metadata": {},
     "output_type": "execute_result"
    }
   ],
   "source": [
    "combined_data = np.stack((data1_resized, data2, data3_resized), axis=-1)\n",
    "combined_data.shape"
   ]
  },
  {
   "cell_type": "code",
   "execution_count": 29,
   "metadata": {},
   "outputs": [],
   "source": [
    "affine = np.eye(4)\n",
    "combined_img = nib.Nifti1Image(combined_data, affine=affine)\n",
    "os.chdir(\"/Users/lindatang/Desktop/tumor_dl\")\n",
    "nib.save(combined_img, 'combined.nii')\n"
   ]
  },
  {
   "cell_type": "code",
   "execution_count": null,
   "metadata": {},
   "outputs": [],
   "source": []
  },
  {
   "cell_type": "code",
   "execution_count": null,
   "metadata": {},
   "outputs": [],
   "source": []
  }
 ],
 "metadata": {
  "kernelspec": {
   "display_name": ".venv",
   "language": "python",
   "name": "python3"
  },
  "language_info": {
   "codemirror_mode": {
    "name": "ipython",
    "version": 3
   },
   "file_extension": ".py",
   "mimetype": "text/x-python",
   "name": "python",
   "nbconvert_exporter": "python",
   "pygments_lexer": "ipython3",
   "version": "3.12.0"
  }
 },
 "nbformat": 4,
 "nbformat_minor": 2
}
